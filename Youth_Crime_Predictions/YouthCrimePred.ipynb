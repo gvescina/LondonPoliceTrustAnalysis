{
 "cells": [
  {
   "cell_type": "code",
   "execution_count": 2,
   "id": "initial_id",
   "metadata": {
    "collapsed": true,
    "ExecuteTime": {
     "end_time": "2024-05-21T16:27:24.027206500Z",
     "start_time": "2024-05-21T16:27:23.693400700Z"
    }
   },
   "outputs": [
    {
     "name": "stdout",
     "output_type": "stream",
     "text": [
      "CME Columns before filtering: Index(['time_period', 'time_identifier', 'geographic_level', 'country_code',\n",
      "       'country_name', 'region_code', 'region_name', 'old_la_code',\n",
      "       'new_la_code', 'la_name', 'filter_group', 'filter', 'number', 'pc',\n",
      "       'rate'],\n",
      "      dtype='object')\n",
      "Filtered CME Columns before renaming: Index(['time_period', 'time_identifier', 'geographic_level', 'country_code',\n",
      "       'country_name', 'region_code', 'region_name', 'old_la_code',\n",
      "       'new_la_code', 'la_name', 'filter_group', 'filter', 'number', 'pc',\n",
      "       'rate'],\n",
      "      dtype='object')\n",
      "Filtered CME Columns after renaming: Index(['time_period', 'time_identifier', 'geographic_level', 'country_code',\n",
      "       'country_name', 'region_code', 'region_name', 'old_la_code',\n",
      "       'new_la_code', 'Borough', 'filter_group', 'filter',\n",
      "       'missing_children_count', 'pc', 'rate'],\n",
      "      dtype='object')\n"
     ]
    }
   ],
   "source": [
    "# Load and clean data\n",
    "\n",
    "import pandas as pd\n",
    "import matplotlib.pyplot as plt\n",
    "from sklearn.linear_model import LinearRegression\n",
    "\n",
    "# Load data\n",
    "cme = pd.read_csv(\"../data/cme_census.csv\")\n",
    "stop_and_search = pd.read_csv(\"../data/filtered_stop_and_search.csv\")\n",
    "\n",
    "# Define boroughs\n",
    "boroughs = [\n",
    "    \"Barking and Dagenham\", \"Barnet\", \"Bexley\", \"Brent\", \"Bromley\", \"Camden\",\n",
    "    \"Croydon\", \"Ealing\", \"Enfield\", \"Greenwich\", \"Hackney\", \"Hammersmith and Fulham\",\n",
    "    \"Haringey\", \"Harrow\", \"Havering\", \"Hillingdon\", \"Hounslow\", \"Islington\",\n",
    "    \"Kensington and Chelsea\", \"Kingston upon Thames\", \"Lambeth\", \"Lewisham\",\n",
    "    \"Merton\", \"Newham\", \"Redbridge\", \"Richmond upon Thames\", \"Southwark\",\n",
    "    \"Sutton\", \"Tower Hamlets\", \"Waltham Forest\", \"Wandsworth\", \"Westminster\"\n",
    "]\n",
    "\n",
    "# Print columns before filtering\n",
    "print(\"CME Columns before filtering:\", cme.columns)\n",
    "\n",
    "# Filter CME data\n",
    "filtered_cme = cme.loc[cme['la_name'].isin(boroughs)].copy()\n",
    "filtered_cme.reset_index(drop=True, inplace=True)\n",
    "\n",
    "# Print columns before renaming\n",
    "print(\"Filtered CME Columns before renaming:\", filtered_cme.columns)\n",
    "\n",
    "# Replace non-numeric values with NaN and drop these rows\n",
    "filtered_cme['number'] = pd.to_numeric(filtered_cme['number'], errors='coerce')\n",
    "filtered_cme.dropna(subset=['number'], inplace=True)\n",
    "\n",
    "# Rename columns for consistency\n",
    "filtered_cme.rename(columns={'la_name': 'Borough', 'number': 'missing_children_count'}, inplace=True)\n",
    "\n",
    "# Convert 'missing_children_count' to integer type\n",
    "filtered_cme['missing_children_count'] = filtered_cme['missing_children_count'].astype(int)\n",
    "\n",
    "# Print columns after renaming\n",
    "print(\"Filtered CME Columns after renaming:\", filtered_cme.columns)\n",
    "\n",
    "# Aggregate CME data by Borough and time_identifier\n",
    "cme_agg = filtered_cme.groupby(['Borough', 'time_identifier'])['missing_children_count'].sum().reset_index()\n"
   ]
  },
  {
   "cell_type": "code",
   "outputs": [
    {
     "name": "stdout",
     "output_type": "stream",
     "text": [
      "Filtered Stop and Search Columns: Index(['Type', 'Date', 'Part of a policing operation', 'Policing operation',\n",
      "       'Latitude', 'Longitude', 'Gender', 'Age range',\n",
      "       'Self-defined ethnicity', 'Officer-defined ethnicity', 'Legislation',\n",
      "       'Object of search', 'Outcome', 'Outcome linked to object of search',\n",
      "       'Removal of more than just outer clothing', 'Borough',\n",
      "       'time_identifier'],\n",
      "      dtype='object')\n",
      "'Borough' column exists in both dataframes.\n",
      "Stop and Search Aggregated Data Columns: Index(['Borough', 'time_identifier', 'stop_search_count'], dtype='object')\n",
      "CME Aggregated Data Columns: Index(['Borough', 'time_identifier', 'missing_children_count'], dtype='object')\n"
     ]
    }
   ],
   "source": [
    "#  Process Stop and Search Data\n",
    "\n",
    "# Define function to assign term\n",
    "def assign_term(date):\n",
    "    if pd.Timestamp('2022-09-01') <= date <= pd.Timestamp('2022-12-16'):\n",
    "        return \"Autumn term\"\n",
    "    elif pd.Timestamp('2023-01-03') <= date <= pd.Timestamp('2023-03-31'):\n",
    "        return \"Spring term\"\n",
    "    elif pd.Timestamp('2023-04-17') <= date <= pd.Timestamp('2023-07-21'):\n",
    "        return \"Summer term\"\n",
    "    else:\n",
    "        return \"Out of term\"\n",
    "\n",
    "# Ensure the 'Date' column is timezone-naive\n",
    "stop_and_search['Date'] = pd.to_datetime(stop_and_search['Date']).dt.tz_localize(None)\n",
    "\n",
    "# Apply the function to the 'Date' column in stop_and_search\n",
    "stop_and_search['Date'] = pd.to_datetime(stop_and_search['Date'])\n",
    "stop_and_search['time_identifier'] = stop_and_search['Date'].apply(assign_term)\n",
    "\n",
    "# Filter stop_and_search data\n",
    "filtered_stop_and_search = stop_and_search.loc[stop_and_search['Borough'].isin(boroughs)].copy()\n",
    "\n",
    "# Check columns after filtering stop_and_search\n",
    "print(\"Filtered Stop and Search Columns:\", filtered_stop_and_search.columns)\n",
    "\n",
    "# Ensure 'Borough' column exists in both dataframes before merging\n",
    "if 'Borough' in filtered_stop_and_search.columns and 'Borough' in cme_agg.columns:\n",
    "    print(\"'Borough' column exists in both dataframes.\")\n",
    "else:\n",
    "    raise KeyError(\"'Borough' column is missing in one of the dataframes.\")\n",
    "\n",
    "# Aggregate stop and search data by Borough and time_identifier\n",
    "stop_and_search_agg = filtered_stop_and_search.groupby(['Borough', 'time_identifier']).size().reset_index(name='stop_search_count')\n",
    "\n",
    "# Print aggregated columns for verification\n",
    "print(\"Stop and Search Aggregated Data Columns:\", stop_and_search_agg.columns)\n",
    "print(\"CME Aggregated Data Columns:\", cme_agg.columns)\n"
   ],
   "metadata": {
    "collapsed": false,
    "ExecuteTime": {
     "end_time": "2024-05-21T16:27:26.339663Z",
     "start_time": "2024-05-21T16:27:26.196529400Z"
    }
   },
   "id": "73517e785b2d5b13",
   "execution_count": 3
  },
  {
   "cell_type": "code",
   "outputs": [
    {
     "name": "stdout",
     "output_type": "stream",
     "text": [
      "The correlation between the number of stop and search incidents and the number of children missing education is: 0.03635164971997998\n"
     ]
    },
    {
     "data": {
      "text/plain": "<Figure size 1000x600 with 2 Axes>",
      "image/png": "[encoded data removed]"
     },
     "metadata": {},
     "output_type": "display_data"
    }
   ],
   "source": [
    "# Merge and compute correlation\n",
    "\n",
    "# Merge stop and search data with CME data\n",
    "merged_data = pd.merge(stop_and_search_agg, cme_agg, on=['Borough', 'time_identifier'], how='inner')\n",
    "\n",
    "# Compute correlation\n",
    "correlation = merged_data['stop_search_count'].corr(merged_data['missing_children_count'])\n",
    "print(\"The correlation between the number of stop and search incidents and the number of children missing education is:\", correlation)\n",
    "\n",
    "# Visualize the distribution of 'stop_search_count' and 'missing_children_count'\n",
    "plt.figure(figsize=(10, 6))\n",
    "plt.subplot(1, 2, 1)\n",
    "plt.hist(merged_data['stop_search_count'], bins=20, color='skyblue', edgecolor='black')\n",
    "plt.title('Distribution of Stop and Search Counts')\n",
    "plt.xlabel('Stop and Search Counts')\n",
    "plt.ylabel('Frequency')\n",
    "\n",
    "plt.subplot(1, 2, 2)\n",
    "plt.hist(merged_data['missing_children_count'], bins=20, color='salmon', edgecolor='black')\n",
    "plt.title('Distribution of Missing Children Counts')\n",
    "plt.xlabel('Missing Children Counts')\n",
    "plt.ylabel('Frequency')\n",
    "\n",
    "plt.tight_layout()\n",
    "plt.show()\n"
   ],
   "metadata": {
    "collapsed": false,
    "ExecuteTime": {
     "end_time": "2024-05-21T16:27:28.082258900Z",
     "start_time": "2024-05-21T16:27:27.829139400Z"
    }
   },
   "id": "a181cf9ae0f231e1",
   "execution_count": 4
  },
  {
   "cell_type": "code",
   "outputs": [
    {
     "ename": "NameError",
     "evalue": "name 'future_data' is not defined",
     "output_type": "error",
     "traceback": [
      "\u001B[1;31m---------------------------------------------------------------------------\u001B[0m",
      "\u001B[1;31mNameError\u001B[0m                                 Traceback (most recent call last)",
      "Cell \u001B[1;32mIn[5], line 12\u001B[0m\n\u001B[0;32m      9\u001B[0m model\u001B[38;5;241m.\u001B[39mfit(X_train, y_train)\n\u001B[0;32m     11\u001B[0m \u001B[38;5;66;03m# Make predictions using the trained model\u001B[39;00m\n\u001B[1;32m---> 12\u001B[0m X_future \u001B[38;5;241m=\u001B[39m future_data[[\u001B[38;5;124m'\u001B[39m\u001B[38;5;124mmissing_children_count\u001B[39m\u001B[38;5;124m'\u001B[39m]]\n\u001B[0;32m     13\u001B[0m future_data[\u001B[38;5;124m'\u001B[39m\u001B[38;5;124mpredicted_stop_search_count\u001B[39m\u001B[38;5;124m'\u001B[39m] \u001B[38;5;241m=\u001B[39m model\u001B[38;5;241m.\u001B[39mpredict(X_future)\n",
      "\u001B[1;31mNameError\u001B[0m: name 'future_data' is not defined"
     ]
    }
   ],
   "source": [
    "# Train a model for predictions\n",
    "\n",
    "# Train a simple model for illustration (replace this with your actual model training and prediction)\n",
    "train_data = merged_data.copy()\n",
    "X_train = train_data[['missing_children_count']]\n",
    "y_train = train_data['stop_search_count']\n",
    "\n",
    "model = LinearRegression()\n",
    "model.fit(X_train, y_train)\n",
    "\n",
    "# Make predictions using the trained model\n",
    "X_future = future_data[['missing_children_count']]\n",
    "future_data['predicted_stop_search_count'] = model.predict(X_future)\n"
   ],
   "metadata": {
    "collapsed": false,
    "ExecuteTime": {
     "end_time": "2024-05-21T16:29:23.285406800Z",
     "start_time": "2024-05-21T16:29:22.758765800Z"
    }
   },
   "id": "5fb3f897499cd665",
   "execution_count": 5
  },
  {
   "cell_type": "code",
   "outputs": [],
   "source": [
    "# Aggregate Predictions by Borough\n",
    "\n",
    "# Aggregate predictions by Borough\n",
    "borough_predictions = future_data.groupby('Borough')['predicted_stop_search_count'].sum().reset_index()\n",
    "\n",
    "# Sort Boroughs by predicted stop and search counts\n",
    "top_boroughs = borough_predictions.sort_values(by='predicted_stop_search_count', ascending=False).head(10)\n"
   ],
   "metadata": {
    "collapsed": false,
    "ExecuteTime": {
     "end_time": "2024-05-21T16:25:24.461862200Z",
     "start_time": "2024-05-21T16:25:24.458544Z"
    }
   },
   "id": "e8d251e6f8011af4",
   "execution_count": 0
  },
  {
   "cell_type": "code",
   "outputs": [],
   "source": [
    "# Printing and plotting the results of predictions\n",
    "\n",
    "print(\"Top 10 Boroughs with highest predicted youth criminality (stop and search counts) in the next 12 months:\")\n",
    "print(top_boroughs)\n",
    "\n",
    "plt.figure(figsize=(12, 8))\n",
    "plt.bar(top_boroughs['Borough'], top_boroughs['predicted_stop_search_count'], color='purple')\n",
    "plt.title('Predicted Stop and Search Counts by Borough for the Next 12 Months (Youth 10-17)')\n",
    "plt.xlabel('Borough')\n",
    "plt.ylabel('Predicted Stop and Search Counts')\n",
    "plt.xticks(rotation=45, ha='right')\n",
    "plt.tight_layout()\n",
    "plt.show()\n"
   ],
   "metadata": {
    "collapsed": false,
    "ExecuteTime": {
     "end_time": "2024-05-21T16:25:24.461862200Z",
     "start_time": "2024-05-21T16:25:24.460864200Z"
    }
   },
   "id": "349ccae0089f9095",
   "execution_count": 0
  },
  {
   "cell_type": "code",
   "outputs": [],
   "source": [],
   "metadata": {
    "collapsed": false,
    "ExecuteTime": {
     "end_time": "2024-05-21T16:25:24.464119700Z",
     "start_time": "2024-05-21T16:25:24.461862200Z"
    }
   },
   "id": "557c31ae8cfce584",
   "execution_count": 0
  },
  {
   "cell_type": "code",
   "outputs": [],
   "source": [],
   "metadata": {
    "collapsed": false,
    "ExecuteTime": {
     "end_time": "2024-05-21T16:25:24.467862200Z",
     "start_time": "2024-05-21T16:25:24.465360300Z"
    }
   },
   "id": "d1c83a34e47affcf",
   "execution_count": 0
  },
  {
   "cell_type": "code",
   "outputs": [],
   "source": [],
   "metadata": {
    "collapsed": false,
    "ExecuteTime": {
     "end_time": "2024-05-21T16:25:29.283032600Z",
     "start_time": "2024-05-21T16:25:29.281037500Z"
    }
   },
   "id": "fc08e1a5ca48c32c",
   "execution_count": 0
  },
  {
   "cell_type": "code",
   "outputs": [],
   "source": [],
   "metadata": {
    "collapsed": false,
    "ExecuteTime": {
     "end_time": "2024-05-21T16:25:29.418310800Z",
     "start_time": "2024-05-21T16:25:29.411331Z"
    }
   },
   "id": "80421a00c2ac6635",
   "execution_count": 0
  },
  {
   "cell_type": "code",
   "outputs": [],
   "source": [],
   "metadata": {
    "collapsed": false,
    "ExecuteTime": {
     "end_time": "2024-05-21T16:25:29.562262900Z",
     "start_time": "2024-05-21T16:25:29.557772300Z"
    }
   },
   "id": "5eb304a34db62b36",
   "execution_count": 0
  },
  {
   "cell_type": "code",
   "outputs": [],
   "source": [],
   "metadata": {
    "collapsed": false,
    "ExecuteTime": {
     "end_time": "2024-05-21T16:25:29.716547700Z",
     "start_time": "2024-05-21T16:25:29.711054300Z"
    }
   },
   "id": "e1e0efae117ee77e",
   "execution_count": 0
  },
  {
   "cell_type": "code",
   "outputs": [],
   "source": [],
   "metadata": {
    "collapsed": false,
    "ExecuteTime": {
     "end_time": "2024-05-21T16:25:29.893367300Z",
     "start_time": "2024-05-21T16:25:29.890369900Z"
    }
   },
   "id": "7423aaa436214486",
   "execution_count": 0
  },
  {
   "cell_type": "code",
   "outputs": [],
   "source": [],
   "metadata": {
    "collapsed": false
   },
   "id": "8f9daac9e5547a02"
  }
 ],
 "metadata": {
  "kernelspec": {
   "display_name": "Python 3",
   "language": "python",
   "name": "python3"
  },
  "language_info": {
   "codemirror_mode": {
    "name": "ipython",
    "version": 2
   },
   "file_extension": ".py",
   "mimetype": "text/x-python",
   "name": "python",
   "nbconvert_exporter": "python",
   "pygments_lexer": "ipython2",
   "version": "2.7.6"
  }
 },
 "nbformat": 4,
 "nbformat_minor": 5
}
