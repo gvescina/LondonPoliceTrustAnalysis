{
 "cells": [
  {
   "cell_type": "code",
   "execution_count": 1,
   "id": "0e021c65-8dec-4fbe-91e5-fc80c3008ac3",
   "metadata": {},
   "outputs": [],
   "source": [
    "import pandas as pd\n",
    "import csv"
   ]
  },
  {
   "cell_type": "code",
   "execution_count": 2,
   "id": "1795664c-1230-4b30-814a-84f43143f6fc",
   "metadata": {},
   "outputs": [],
   "source": [
    "filtered_stopsearch = pd.read_csv(r\"C:\\Users\\20223661\\Downloads\\filtered_stop_and_search.csv\")\n",
    "pas_boroughs = pd.read_csv(r\"C:\\Users\\20223661\\Downloads\\pas_boroughs.csv\")\n",
    "df_borough_recent = pd.read_csv(r\"C:\\Users\\20223661\\OneDrive - TU Eindhoven\\Documents\\University related\\Data Science Y2\\JBG050 Data Challenge 2\\MPS Borough Level Crime (most recent 24 months).csv\")"
   ]
  },
  {
   "cell_type": "code",
   "execution_count": 3,
   "id": "6017bf82-5f54-4ecc-b6de-adb619eb2dbc",
   "metadata": {},
   "outputs": [],
   "source": [
    "pas_boroughs['good_job'] = pd.to_numeric(pas_boroughs['good_job'], errors = 'coerce')\n",
    "pas_boroughs['trust'] = pd.to_numeric(pas_boroughs['trust'], errors = 'coerce')\n",
    "pas_boroughs['fair_treatment'] = pd.to_numeric(pas_boroughs['fair_treatment'], errors = 'coerce')\n",
    "pas_boroughs['dealing_issues'] = pd.to_numeric(pas_boroughs['dealing_issues'], errors = 'coerce')\n",
    "\n",
    "pas_boroughs = pas_boroughs[['borough', 'trust', 'good_job', 'dealing_issues', 'fair_treatment']]\n",
    "pas_boroughs_aggregated = pas_boroughs.groupby('borough').mean().reset_index()"
   ]
  },
  {
   "cell_type": "code",
   "execution_count": 4,
   "id": "d2a2c4db-aaee-41cc-96dc-aa0514edbbb6",
   "metadata": {},
   "outputs": [
    {
     "name": "stdout",
     "output_type": "stream",
     "text": [
      "                                       Borough  \\\n",
      "48                        Barking and Dagenham   \n",
      "97                                      Barnet   \n",
      "143                                     Bexley   \n",
      "191                                      Brent   \n",
      "238                                    Bromley   \n",
      "278                                     Camden   \n",
      "334                                    Croydon   \n",
      "382                                     Ealing   \n",
      "433                                    Enfield   \n",
      "481                                  Greenwich   \n",
      "529                                    Hackney   \n",
      "577                     Hammersmith and Fulham   \n",
      "626                                   Haringey   \n",
      "677                                     Harrow   \n",
      "725                                   Havering   \n",
      "773                                 Hillingdon   \n",
      "821                                   Hounslow   \n",
      "868                                  Islington   \n",
      "904                     Kensington and Chelsea   \n",
      "960                       Kingston upon Thames   \n",
      "1011                                   Lambeth   \n",
      "1059                                  Lewisham   \n",
      "1070  London Heathrow and London City Airports   \n",
      "1138                                    Merton   \n",
      "1189                                    Newham   \n",
      "1238                                 Redbridge   \n",
      "1283                      Richmond upon Thames   \n",
      "1321                                 Southwark   \n",
      "1376                                    Sutton   \n",
      "1427                             Tower Hamlets   \n",
      "1475                            Waltham Forest   \n",
      "1524                                Wandsworth   \n",
      "1564                               Westminster   \n",
      "\n",
      "                          Major Crime Type        Specific Crime Type  \\\n",
      "48             Violence Against the Person    Violence without Injury   \n",
      "97             Violence Against the Person    Violence without Injury   \n",
      "143            Violence Against the Person    Violence without Injury   \n",
      "191            Violence Against the Person    Violence without Injury   \n",
      "238            Violence Against the Person    Violence without Injury   \n",
      "278                                  Theft                Other Theft   \n",
      "334            Violence Against the Person    Violence without Injury   \n",
      "382            Violence Against the Person    Violence without Injury   \n",
      "433            Violence Against the Person    Violence without Injury   \n",
      "481            Violence Against the Person    Violence without Injury   \n",
      "529            Violence Against the Person    Violence without Injury   \n",
      "577            Violence Against the Person    Violence without Injury   \n",
      "626            Violence Against the Person    Violence without Injury   \n",
      "677            Violence Against the Person    Violence without Injury   \n",
      "725            Violence Against the Person    Violence without Injury   \n",
      "773            Violence Against the Person    Violence without Injury   \n",
      "821            Violence Against the Person    Violence without Injury   \n",
      "868            Violence Against the Person    Violence without Injury   \n",
      "904                                  Theft                Other Theft   \n",
      "960            Violence Against the Person    Violence without Injury   \n",
      "1011           Violence Against the Person    Violence without Injury   \n",
      "1059           Violence Against the Person    Violence without Injury   \n",
      "1070  Miscellaneous Crimes Against Society  Other Notifiable Offences   \n",
      "1138           Violence Against the Person    Violence without Injury   \n",
      "1189           Violence Against the Person    Violence without Injury   \n",
      "1238           Violence Against the Person    Violence without Injury   \n",
      "1283           Violence Against the Person    Violence without Injury   \n",
      "1321                                 Theft                Other Theft   \n",
      "1376           Violence Against the Person    Violence without Injury   \n",
      "1427           Violence Against the Person    Violence without Injury   \n",
      "1475           Violence Against the Person    Violence without Injury   \n",
      "1524           Violence Against the Person    Violence without Injury   \n",
      "1564                                 Theft                Other Theft   \n",
      "\n",
      "      Total Crime Count  \n",
      "48                10339  \n",
      "97                11521  \n",
      "143                8024  \n",
      "191               13193  \n",
      "238                9368  \n",
      "278               16750  \n",
      "334               15714  \n",
      "382               14687  \n",
      "433               12801  \n",
      "481               12850  \n",
      "529               11568  \n",
      "577                7704  \n",
      "626               10943  \n",
      "677                7364  \n",
      "725                8673  \n",
      "773               11236  \n",
      "821               12296  \n",
      "868                9580  \n",
      "904                9147  \n",
      "960                4978  \n",
      "1011              12442  \n",
      "1059              12409  \n",
      "1070               3024  \n",
      "1138               5977  \n",
      "1189              14309  \n",
      "1238              10760  \n",
      "1283               4080  \n",
      "1321              12532  \n",
      "1376               5997  \n",
      "1427              14437  \n",
      "1475               9178  \n",
      "1524               9836  \n",
      "1564              47996  \n"
     ]
    }
   ],
   "source": [
    "# Melt the dataframe\n",
    "df_melted = df_borough_recent.melt(id_vars=['MajorText', 'MinorText', 'LookUp_BoroughName'], \n",
    "                    var_name='Month', \n",
    "                    value_name='CrimeCount')\n",
    "\n",
    "# Group by Borough and Crime Type, summing the crime counts\n",
    "df_borough_grouped = df_melted.groupby(['LookUp_BoroughName', 'MajorText', 'MinorText']).agg({'CrimeCount': 'sum'}).reset_index()\n",
    "\n",
    "# Find the crime type with the highest count per borough\n",
    "idx = df_borough_grouped.groupby(['LookUp_BoroughName'])['CrimeCount'].idxmax()\n",
    "df_max_crime = df_borough_grouped.loc[idx]\n",
    "\n",
    "df_result = df_max_crime[['LookUp_BoroughName', 'MajorText', 'MinorText', 'CrimeCount']]\n",
    "df_result.columns = ['Borough', 'Major Crime Type', 'Specific Crime Type', 'Total Crime Count']\n",
    "\n",
    "# The most occuring crimes per borough\n",
    "print(df_result)"
   ]
  },
  {
   "cell_type": "code",
   "execution_count": 5,
   "id": "e66242e6-4302-4894-98a0-bd83a2ef6350",
   "metadata": {},
   "outputs": [
    {
     "name": "stdout",
     "output_type": "stream",
     "text": [
      "                   Total Crime Count     trust  good_job  dealing_issues  \\\n",
      "Total Crime Count           1.000000  0.009091 -0.135122       -0.043946   \n",
      "trust                       0.009091  1.000000  0.791132        0.946958   \n",
      "good_job                   -0.135122  0.791132  1.000000        0.799183   \n",
      "dealing_issues             -0.043946  0.946958  0.799183        1.000000   \n",
      "fair_treatment             -0.113291  0.928554  0.668879        0.906423   \n",
      "\n",
      "                   fair_treatment  \n",
      "Total Crime Count       -0.113291  \n",
      "trust                    0.928554  \n",
      "good_job                 0.668879  \n",
      "dealing_issues           0.906423  \n",
      "fair_treatment           1.000000  \n"
     ]
    }
   ],
   "source": [
    "# Aggregate the original crime data by borough to get the total crime counts for each borough\n",
    "df_result['Total Crime Count'] = df_result.iloc[:, 3:].sum(axis=1)\n",
    "df_total_crimes = df_result.groupby('Borough')['Total Crime Count'].sum().reset_index()\n",
    "df_total_crimes.columns = ['borough', 'Total Crime Count']\n",
    "\n",
    "# Merging the two dataframes on the borough name\n",
    "df_borough_PAS_merged = pd.merge(df_total_crimes, pas_boroughs_aggregated, on='borough')\n",
    "\n",
    "# Compute the correlation matrix\n",
    "correlation_matrix = df_borough_PAS_merged[['Total Crime Count', 'trust', 'good_job', 'dealing_issues', 'fair_treatment']].corr()\n",
    "\n",
    "# Display the correlation matrix\n",
    "print(correlation_matrix)"
   ]
  },
  {
   "cell_type": "code",
   "execution_count": 6,
   "id": "67bdfe9f-7d8b-4d84-bd17-28c3337eff97",
   "metadata": {},
   "outputs": [],
   "source": [
    "# Aggregate the number of stop searches per borough\n",
    "stop_searches_per_borough = filtered_stopsearch.groupby('Borough').size().reset_index(name='stop_searches')\n",
    "\n",
    "# Merge the aggregated stop searches with the scores data\n",
    "merged_stop_PAS_df = pd.merge(pas_boroughs_aggregated, stop_searches_per_borough, how='left', left_on='borough', right_on='Borough')\n",
    "\n",
    "merged_stop_PAS_df = merged_stop_PAS_df.drop(columns=['borough', 'Borough'])"
   ]
  },
  {
   "cell_type": "code",
   "execution_count": 7,
   "id": "a5bf4817-8165-455f-85fc-f1a13dd9bb07",
   "metadata": {},
   "outputs": [
    {
     "name": "stdout",
     "output_type": "stream",
     "text": [
      "                   trust  good_job  dealing_issues  fair_treatment  \\\n",
      "trust           1.000000  0.791132        0.946958        0.928554   \n",
      "good_job        0.791132  1.000000        0.799183        0.668879   \n",
      "dealing_issues  0.946958  0.799183        1.000000        0.906423   \n",
      "fair_treatment  0.928554  0.668879        0.906423        1.000000   \n",
      "stop_searches  -0.592414 -0.562409       -0.592156       -0.605614   \n",
      "\n",
      "                stop_searches  \n",
      "trust               -0.592414  \n",
      "good_job            -0.562409  \n",
      "dealing_issues      -0.592156  \n",
      "fair_treatment      -0.605614  \n",
      "stop_searches        1.000000  \n"
     ]
    }
   ],
   "source": [
    "# Calculate the correlation matrix\n",
    "correlation_matrix1 = merged_stop_PAS_df.corr()\n",
    "\n",
    "print(correlation_matrix1)"
   ]
  }
 ],
 "metadata": {
  "kernelspec": {
   "display_name": "Python 3 (ipykernel)",
   "language": "python",
   "name": "python3"
  },
  "language_info": {
   "codemirror_mode": {
    "name": "ipython",
    "version": 3
   },
   "file_extension": ".py",
   "mimetype": "text/x-python",
   "name": "python",
   "nbconvert_exporter": "python",
   "pygments_lexer": "ipython3",
   "version": "3.11.9"
  }
 },
 "nbformat": 4,
 "nbformat_minor": 5
}
