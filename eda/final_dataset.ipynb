{
 "cells": [
  {
   "cell_type": "code",
   "execution_count": 68,
   "id": "initial_id",
   "metadata": {
    "collapsed": true,
    "ExecuteTime": {
     "end_time": "2024-06-13T17:15:41.372469900Z",
     "start_time": "2024-06-13T17:15:41.364911Z"
    }
   },
   "outputs": [],
   "source": [
    "import pandas as pd\n",
    "import numpy as np\n",
    "import matplotlib.pyplot as plt\n",
    "import seaborn as sns"
   ]
  },
  {
   "cell_type": "code",
   "outputs": [],
   "source": [
    "pas = pd.read_csv(\"../data/pas_boroughs.csv\")\n",
    "sas = pd.read_csv(\"../data/merged_filtered_sas.csv\")\n",
    "sas.rename(columns={\"Borough\": \"borough\"}, inplace=True)\n",
    "sas = sas[sas['borough'] != 'Unknown']"
   ],
   "metadata": {
    "collapsed": false,
    "ExecuteTime": {
     "end_time": "2024-06-13T17:15:41.553895700Z",
     "start_time": "2024-06-13T17:15:41.370474600Z"
    }
   },
   "id": "d2a8fb7013d74e28",
   "execution_count": 69
  },
  {
   "cell_type": "code",
   "outputs": [
    {
     "data": {
      "text/plain": "                Type                       Date  Part of a policing operation  \\\n0      Person search  2021-03-31 23:01:00+00:00                         False   \n1      Person search  2021-03-31 23:06:00+00:00                         False   \n2      Person search  2021-03-31 23:10:00+00:00                         False   \n3      Person search  2021-03-31 23:32:00+00:00                         False   \n4      Person search  2021-04-01 00:30:00+00:00                         False   \n...              ...                        ...                           ...   \n55892  Person search  2023-09-30 22:00:00+00:00                         False   \n55893  Person search  2023-09-30 22:15:00+00:00                         False   \n55894  Person search  2023-09-30 22:19:00+00:00                         False   \n55895  Person search  2023-09-30 22:56:00+00:00                         False   \n55896  Person search  2023-09-30 23:25:00+00:00                         False   \n\n       Policing operation   Latitude  Longitude Gender Age range  \\\n0                     NaN  51.500886  -0.068284   Male     10-17   \n1                     NaN  51.537199  -0.076004   Male     10-17   \n2                     NaN  51.378427  -0.102657   Male     10-17   \n3                     NaN  51.521962  -0.221082   Male     10-17   \n4                     NaN  51.621786  -0.292547   Male     10-17   \n...                   ...        ...        ...    ...       ...   \n55892                 NaN  51.558053   0.239651   Male     10-17   \n55893                 NaN  51.562985   0.214369   Male     10-17   \n55894                 NaN  51.632352  -0.173649   Male     10-17   \n55895                 NaN  51.514246  -0.131436   Male     10-17   \n55896                 NaN  51.374949  -0.096709   Male     10-17   \n\n                                  Self-defined ethnicity  \\\n0                        Other ethnic group - Not stated   \n1                        Other ethnic group - Not stated   \n2                        Other ethnic group - Not stated   \n3      Black/African/Caribbean/Black British - Any ot...   \n4                        Other ethnic group - Not stated   \n...                                                  ...   \n55892                 White - Any other White background   \n55893  White - English/Welsh/Scottish/Northern Irish/...   \n55894                    Other ethnic group - Not stated   \n55895    Black/African/Caribbean/Black British - African   \n55896                    Other ethnic group - Not stated   \n\n      Officer-defined ethnicity  \\\n0                         Black   \n1                         White   \n2                         White   \n3                         Black   \n4                         Black   \n...                         ...   \n55892                     White   \n55893                     White   \n55894                     Asian   \n55895                     Black   \n55896                     Black   \n\n                                             Legislation  \\\n0                  Misuse of Drugs Act 1971 (section 23)   \n1      Police and Criminal Evidence Act 1984 (section 1)   \n2      Criminal Justice and Public Order Act 1994 (se...   \n3      Police and Criminal Evidence Act 1984 (section 1)   \n4      Police and Criminal Evidence Act 1984 (section 1)   \n...                                                  ...   \n55892  Police and Criminal Evidence Act 1984 (section 1)   \n55893  Police and Criminal Evidence Act 1984 (section 1)   \n55894  Police and Criminal Evidence Act 1984 (section 1)   \n55895  Police and Criminal Evidence Act 1984 (section 1)   \n55896              Misuse of Drugs Act 1971 (section 23)   \n\n                          Object of search                       Outcome  \\\n0                         Controlled drugs  A no further action disposal   \n1                        Offensive weapons  A no further action disposal   \n2      Anything to threaten or harm anyone  A no further action disposal   \n3       Evidence of offences under the Act  A no further action disposal   \n4                        Offensive weapons  A no further action disposal   \n...                                    ...                           ...   \n55892                    Offensive weapons  A no further action disposal   \n55893                    Offensive weapons  A no further action disposal   \n55894                    Offensive weapons  A no further action disposal   \n55895                    Offensive weapons                        Arrest   \n55896                     Controlled drugs          Community resolution   \n\n       Outcome linked to object of search  \\\n0                                     NaN   \n1                                     NaN   \n2                                     NaN   \n3                                     NaN   \n4                                     NaN   \n...                                   ...   \n55892                                 NaN   \n55893                                 NaN   \n55894                                 NaN   \n55895                                 NaN   \n55896                                 NaN   \n\n       Removal of more than just outer clothing  Arrest Year  quarter  \\\n0                                           NaN         2021        1   \n1                                           NaN         2021        1   \n2                                           NaN         2021        1   \n3                                           NaN         2021        1   \n4                                           NaN         2021        2   \n...                                         ...          ...      ...   \n55892                                       NaN         2023        3   \n55893                                       NaN         2023        3   \n55894                                       NaN         2023        3   \n55895                                       NaN         2023        3   \n55896                                       NaN         2023        3   \n\n                      borough  \n0                   Southwark  \n1                     Hackney  \n2                     Croydon  \n3      Kensington and Chelsea  \n4                      Barnet  \n...                       ...  \n55892                Havering  \n55893                Havering  \n55894                  Barnet  \n55895               Islington  \n55896                 Croydon  \n\n[45903 rows x 18 columns]",
      "text/html": "<div>\n<style scoped>\n    .dataframe tbody tr th:only-of-type {\n        vertical-align: middle;\n    }\n\n    .dataframe tbody tr th {\n        vertical-align: top;\n    }\n\n    .dataframe thead th {\n        text-align: right;\n    }\n</style>\n<table border=\"1\" class=\"dataframe\">\n  <thead>\n    <tr style=\"text-align: right;\">\n      <th></th>\n      <th>Type</th>\n      <th>Date</th>\n      <th>Part of a policing operation</th>\n      <th>Policing operation</th>\n      <th>Latitude</th>\n      <th>Longitude</th>\n      <th>Gender</th>\n      <th>Age range</th>\n      <th>Self-defined ethnicity</th>\n      <th>Officer-defined ethnicity</th>\n      <th>Legislation</th>\n      <th>Object of search</th>\n      <th>Outcome</th>\n      <th>Outcome linked to object of search</th>\n      <th>Removal of more than just outer clothing</th>\n      <th>Arrest Year</th>\n      <th>quarter</th>\n      <th>borough</th>\n    </tr>\n  </thead>\n  <tbody>\n    <tr>\n      <th>0</th>\n      <td>Person search</td>\n      <td>2021-03-31 23:01:00+00:00</td>\n      <td>False</td>\n      <td>NaN</td>\n      <td>51.500886</td>\n      <td>-0.068284</td>\n      <td>Male</td>\n      <td>10-17</td>\n      <td>Other ethnic group - Not stated</td>\n      <td>Black</td>\n      <td>Misuse of Drugs Act 1971 (section 23)</td>\n      <td>Controlled drugs</td>\n      <td>A no further action disposal</td>\n      <td>NaN</td>\n      <td>NaN</td>\n      <td>2021</td>\n      <td>1</td>\n      <td>Southwark</td>\n    </tr>\n    <tr>\n      <th>1</th>\n      <td>Person search</td>\n      <td>2021-03-31 23:06:00+00:00</td>\n      <td>False</td>\n      <td>NaN</td>\n      <td>51.537199</td>\n      <td>-0.076004</td>\n      <td>Male</td>\n      <td>10-17</td>\n      <td>Other ethnic group - Not stated</td>\n      <td>White</td>\n      <td>Police and Criminal Evidence Act 1984 (section 1)</td>\n      <td>Offensive weapons</td>\n      <td>A no further action disposal</td>\n      <td>NaN</td>\n      <td>NaN</td>\n      <td>2021</td>\n      <td>1</td>\n      <td>Hackney</td>\n    </tr>\n    <tr>\n      <th>2</th>\n      <td>Person search</td>\n      <td>2021-03-31 23:10:00+00:00</td>\n      <td>False</td>\n      <td>NaN</td>\n      <td>51.378427</td>\n      <td>-0.102657</td>\n      <td>Male</td>\n      <td>10-17</td>\n      <td>Other ethnic group - Not stated</td>\n      <td>White</td>\n      <td>Criminal Justice and Public Order Act 1994 (se...</td>\n      <td>Anything to threaten or harm anyone</td>\n      <td>A no further action disposal</td>\n      <td>NaN</td>\n      <td>NaN</td>\n      <td>2021</td>\n      <td>1</td>\n      <td>Croydon</td>\n    </tr>\n    <tr>\n      <th>3</th>\n      <td>Person search</td>\n      <td>2021-03-31 23:32:00+00:00</td>\n      <td>False</td>\n      <td>NaN</td>\n      <td>51.521962</td>\n      <td>-0.221082</td>\n      <td>Male</td>\n      <td>10-17</td>\n      <td>Black/African/Caribbean/Black British - Any ot...</td>\n      <td>Black</td>\n      <td>Police and Criminal Evidence Act 1984 (section 1)</td>\n      <td>Evidence of offences under the Act</td>\n      <td>A no further action disposal</td>\n      <td>NaN</td>\n      <td>NaN</td>\n      <td>2021</td>\n      <td>1</td>\n      <td>Kensington and Chelsea</td>\n    </tr>\n    <tr>\n      <th>4</th>\n      <td>Person search</td>\n      <td>2021-04-01 00:30:00+00:00</td>\n      <td>False</td>\n      <td>NaN</td>\n      <td>51.621786</td>\n      <td>-0.292547</td>\n      <td>Male</td>\n      <td>10-17</td>\n      <td>Other ethnic group - Not stated</td>\n      <td>Black</td>\n      <td>Police and Criminal Evidence Act 1984 (section 1)</td>\n      <td>Offensive weapons</td>\n      <td>A no further action disposal</td>\n      <td>NaN</td>\n      <td>NaN</td>\n      <td>2021</td>\n      <td>2</td>\n      <td>Barnet</td>\n    </tr>\n    <tr>\n      <th>...</th>\n      <td>...</td>\n      <td>...</td>\n      <td>...</td>\n      <td>...</td>\n      <td>...</td>\n      <td>...</td>\n      <td>...</td>\n      <td>...</td>\n      <td>...</td>\n      <td>...</td>\n      <td>...</td>\n      <td>...</td>\n      <td>...</td>\n      <td>...</td>\n      <td>...</td>\n      <td>...</td>\n      <td>...</td>\n      <td>...</td>\n    </tr>\n    <tr>\n      <th>55892</th>\n      <td>Person search</td>\n      <td>2023-09-30 22:00:00+00:00</td>\n      <td>False</td>\n      <td>NaN</td>\n      <td>51.558053</td>\n      <td>0.239651</td>\n      <td>Male</td>\n      <td>10-17</td>\n      <td>White - Any other White background</td>\n      <td>White</td>\n      <td>Police and Criminal Evidence Act 1984 (section 1)</td>\n      <td>Offensive weapons</td>\n      <td>A no further action disposal</td>\n      <td>NaN</td>\n      <td>NaN</td>\n      <td>2023</td>\n      <td>3</td>\n      <td>Havering</td>\n    </tr>\n    <tr>\n      <th>55893</th>\n      <td>Person search</td>\n      <td>2023-09-30 22:15:00+00:00</td>\n      <td>False</td>\n      <td>NaN</td>\n      <td>51.562985</td>\n      <td>0.214369</td>\n      <td>Male</td>\n      <td>10-17</td>\n      <td>White - English/Welsh/Scottish/Northern Irish/...</td>\n      <td>White</td>\n      <td>Police and Criminal Evidence Act 1984 (section 1)</td>\n      <td>Offensive weapons</td>\n      <td>A no further action disposal</td>\n      <td>NaN</td>\n      <td>NaN</td>\n      <td>2023</td>\n      <td>3</td>\n      <td>Havering</td>\n    </tr>\n    <tr>\n      <th>55894</th>\n      <td>Person search</td>\n      <td>2023-09-30 22:19:00+00:00</td>\n      <td>False</td>\n      <td>NaN</td>\n      <td>51.632352</td>\n      <td>-0.173649</td>\n      <td>Male</td>\n      <td>10-17</td>\n      <td>Other ethnic group - Not stated</td>\n      <td>Asian</td>\n      <td>Police and Criminal Evidence Act 1984 (section 1)</td>\n      <td>Offensive weapons</td>\n      <td>A no further action disposal</td>\n      <td>NaN</td>\n      <td>NaN</td>\n      <td>2023</td>\n      <td>3</td>\n      <td>Barnet</td>\n    </tr>\n    <tr>\n      <th>55895</th>\n      <td>Person search</td>\n      <td>2023-09-30 22:56:00+00:00</td>\n      <td>False</td>\n      <td>NaN</td>\n      <td>51.514246</td>\n      <td>-0.131436</td>\n      <td>Male</td>\n      <td>10-17</td>\n      <td>Black/African/Caribbean/Black British - African</td>\n      <td>Black</td>\n      <td>Police and Criminal Evidence Act 1984 (section 1)</td>\n      <td>Offensive weapons</td>\n      <td>Arrest</td>\n      <td>NaN</td>\n      <td>NaN</td>\n      <td>2023</td>\n      <td>3</td>\n      <td>Islington</td>\n    </tr>\n    <tr>\n      <th>55896</th>\n      <td>Person search</td>\n      <td>2023-09-30 23:25:00+00:00</td>\n      <td>False</td>\n      <td>NaN</td>\n      <td>51.374949</td>\n      <td>-0.096709</td>\n      <td>Male</td>\n      <td>10-17</td>\n      <td>Other ethnic group - Not stated</td>\n      <td>Black</td>\n      <td>Misuse of Drugs Act 1971 (section 23)</td>\n      <td>Controlled drugs</td>\n      <td>Community resolution</td>\n      <td>NaN</td>\n      <td>NaN</td>\n      <td>2023</td>\n      <td>3</td>\n      <td>Croydon</td>\n    </tr>\n  </tbody>\n</table>\n<p>45903 rows × 18 columns</p>\n</div>"
     },
     "execution_count": 70,
     "metadata": {},
     "output_type": "execute_result"
    }
   ],
   "source": [
    "sas"
   ],
   "metadata": {
    "collapsed": false,
    "ExecuteTime": {
     "end_time": "2024-06-13T17:15:41.568366100Z",
     "start_time": "2024-06-13T17:15:41.553895700Z"
    }
   },
   "id": "50cc1e0e394541b3",
   "execution_count": 70
  },
  {
   "cell_type": "code",
   "outputs": [],
   "source": [
    "import pandas as pd\n",
    "\n",
    "# Assume 'pas' and 'sas' are already loaded as pandas DataFrames\n",
    "\n",
    "# Filter out rows where the borough is 'Unknown'\n",
    "pas = pas[pas['borough'] != 'Unknown']\n",
    "sas = sas[sas['borough'] != 'Unknown']\n",
    "\n",
    "# Convert 'Date' to datetime in SAS\n",
    "sas['Date'] = pd.to_datetime(sas['Date'])\n",
    "sas['year_int'] = sas['Date'].dt.year\n",
    "sas['quarter'] = sas['Date'].dt.quarter\n",
    "\n",
    "# Shift the quarters for SAS to align with PAS definition\n",
    "sas['year_int'] += (sas['quarter'] == 4).astype(int)\n",
    "sas['quarter'] = sas['quarter'].map({1: 4, 2: 1, 3: 2, 4: 3})\n",
    "\n",
    "sas_filtered = sas[['borough', 'year_int', 'quarter', 'Outcome', 'Object of search']]\n",
    "sas_dummies = pd.get_dummies(sas_filtered, columns=['Outcome', 'Object of search'])\n",
    "\n",
    "#Dummy variables\n",
    "sas_grouped = sas_dummies.groupby(['borough', 'year_int', 'quarter']).sum().reset_index()\n",
    "\n",
    "# Merging PAS Data\n",
    "merged_data = pd.merge(pas, sas_grouped, on=['borough', 'year_int', 'quarter'], how='outer')\n",
    "\n",
    "# Fill empty values with 0\n",
    "merged_data.fillna(0, inplace=True)\n",
    "\n",
    "# Removing rows with 'good_job' score equal to 0\n",
    "merged_data = merged_data[merged_data['good_job'] != 0]"
   ],
   "metadata": {
    "collapsed": false,
    "ExecuteTime": {
     "end_time": "2024-06-13T17:15:51.659653200Z",
     "start_time": "2024-06-13T17:15:51.605092100Z"
    }
   },
   "id": "41d11da54621d508",
   "execution_count": 72
  },
  {
   "cell_type": "code",
   "outputs": [
    {
     "data": {
      "text/plain": "                  borough  good_job  trust  fair_treatment  dealing_issues  \\\n0    Barking and Dagenham      0.47   0.80            0.66            0.68   \n1    Barking and Dagenham      0.44   0.77            0.66            0.64   \n2    Barking and Dagenham      0.50   0.78            0.70            0.70   \n3    Barking and Dagenham      0.47   0.75            0.70            0.66   \n4    Barking and Dagenham      0.50   0.77            0.71            0.66   \n..                    ...       ...    ...             ...             ...   \n351           Westminster      0.51   0.80            0.58            0.60   \n352           Westminster      0.59   0.74            0.67            0.65   \n353           Westminster      0.59   0.74            0.67            0.65   \n354           Westminster      0.60   0.78            0.71            0.67   \n355           Westminster      0.56   0.75            0.67            0.65   \n\n     quarter   year  year_int  Outcome_A no further action disposal  \\\n0        1.0  21-22      2021                                 120.0   \n1        2.0  21-22      2021                                  85.0   \n2        3.0  21-22      2021                                   0.0   \n3        1.0  22-23      2022                                  85.0   \n4        2.0  22-23      2022                                 121.0   \n..       ...    ...       ...                                   ...   \n351      4.0  21-22      2022                                   0.0   \n352      1.0  23-24      2023                                  52.0   \n353      2.0  23-24      2023                                  40.0   \n354      3.0  23-24      2023                                  25.0   \n355      4.0  22-23      2023                                   1.0   \n\n     Outcome_Arrest  ...  Outcome_Penalty Notice for Disorder  \\\n0              17.0  ...                                  0.0   \n1              18.0  ...                                  1.0   \n2               0.0  ...                                  0.0   \n3              26.0  ...                                  0.0   \n4              14.0  ...                                  1.0   \n..              ...  ...                                  ...   \n351             0.0  ...                                  0.0   \n352            11.0  ...                                  0.0   \n353            15.0  ...                                  1.0   \n354            17.0  ...                                  0.0   \n355             0.0  ...                                  0.0   \n\n     Outcome_Summons / charged by post  \\\n0                                  5.0   \n1                                  1.0   \n2                                  0.0   \n3                                  4.0   \n4                                  2.0   \n..                                 ...   \n351                                0.0   \n352                                0.0   \n353                                0.0   \n354                                0.0   \n355                                0.0   \n\n     Object of search_Anything to threaten or harm anyone  \\\n0                                                  1.0      \n1                                                  0.0      \n2                                                  0.0      \n3                                                  0.0      \n4                                                  0.0      \n..                                                 ...      \n351                                                0.0      \n352                                                0.0      \n353                                                0.0      \n354                                                0.0      \n355                                                0.0      \n\n     Object of search_Articles for use in criminal damage  \\\n0                                                  0.0      \n1                                                  0.0      \n2                                                  0.0      \n3                                                  0.0      \n4                                                  1.0      \n..                                                 ...      \n351                                                0.0      \n352                                                4.0      \n353                                                0.0      \n354                                                1.0      \n355                                                0.0      \n\n     Object of search_Controlled drugs  \\\n0                                 77.0   \n1                                 76.0   \n2                                  0.0   \n3                                 56.0   \n4                                 80.0   \n..                                 ...   \n351                                0.0   \n352                               23.0   \n353                               11.0   \n354                               13.0   \n355                                0.0   \n\n     Object of search_Evidence of offences under the Act  \\\n0                                                 13.0     \n1                                                  5.0     \n2                                                  0.0     \n3                                                  9.0     \n4                                                  8.0     \n..                                                 ...     \n351                                                0.0     \n352                                                0.0     \n353                                                2.0     \n354                                                0.0     \n355                                                0.0     \n\n     Object of search_Firearms  Object of search_Fireworks  \\\n0                          0.0                         4.0   \n1                          0.0                         1.0   \n2                          0.0                         0.0   \n3                          0.0                         0.0   \n4                          5.0                         2.0   \n..                         ...                         ...   \n351                        0.0                         0.0   \n352                        0.0                         0.0   \n353                        0.0                         0.0   \n354                        0.0                         1.0   \n355                        0.0                         0.0   \n\n     Object of search_Offensive weapons  Object of search_Stolen goods  \n0                                  37.0                           13.0  \n1                                  26.0                            8.0  \n2                                   0.0                            0.0  \n3                                  46.0                           20.0  \n4                                  47.0                           23.0  \n..                                  ...                            ...  \n351                                 0.0                            0.0  \n352                                18.0                           23.0  \n353                                20.0                           27.0  \n354                                 7.0                           23.0  \n355                                 0.0                            1.0  \n\n[352 rows x 22 columns]",
      "text/html": "<div>\n<style scoped>\n    .dataframe tbody tr th:only-of-type {\n        vertical-align: middle;\n    }\n\n    .dataframe tbody tr th {\n        vertical-align: top;\n    }\n\n    .dataframe thead th {\n        text-align: right;\n    }\n</style>\n<table border=\"1\" class=\"dataframe\">\n  <thead>\n    <tr style=\"text-align: right;\">\n      <th></th>\n      <th>borough</th>\n      <th>good_job</th>\n      <th>trust</th>\n      <th>fair_treatment</th>\n      <th>dealing_issues</th>\n      <th>quarter</th>\n      <th>year</th>\n      <th>year_int</th>\n      <th>Outcome_A no further action disposal</th>\n      <th>Outcome_Arrest</th>\n      <th>...</th>\n      <th>Outcome_Penalty Notice for Disorder</th>\n      <th>Outcome_Summons / charged by post</th>\n      <th>Object of search_Anything to threaten or harm anyone</th>\n      <th>Object of search_Articles for use in criminal damage</th>\n      <th>Object of search_Controlled drugs</th>\n      <th>Object of search_Evidence of offences under the Act</th>\n      <th>Object of search_Firearms</th>\n      <th>Object of search_Fireworks</th>\n      <th>Object of search_Offensive weapons</th>\n      <th>Object of search_Stolen goods</th>\n    </tr>\n  </thead>\n  <tbody>\n    <tr>\n      <th>0</th>\n      <td>Barking and Dagenham</td>\n      <td>0.47</td>\n      <td>0.80</td>\n      <td>0.66</td>\n      <td>0.68</td>\n      <td>1.0</td>\n      <td>21-22</td>\n      <td>2021</td>\n      <td>120.0</td>\n      <td>17.0</td>\n      <td>...</td>\n      <td>0.0</td>\n      <td>5.0</td>\n      <td>1.0</td>\n      <td>0.0</td>\n      <td>77.0</td>\n      <td>13.0</td>\n      <td>0.0</td>\n      <td>4.0</td>\n      <td>37.0</td>\n      <td>13.0</td>\n    </tr>\n    <tr>\n      <th>1</th>\n      <td>Barking and Dagenham</td>\n      <td>0.44</td>\n      <td>0.77</td>\n      <td>0.66</td>\n      <td>0.64</td>\n      <td>2.0</td>\n      <td>21-22</td>\n      <td>2021</td>\n      <td>85.0</td>\n      <td>18.0</td>\n      <td>...</td>\n      <td>1.0</td>\n      <td>1.0</td>\n      <td>0.0</td>\n      <td>0.0</td>\n      <td>76.0</td>\n      <td>5.0</td>\n      <td>0.0</td>\n      <td>1.0</td>\n      <td>26.0</td>\n      <td>8.0</td>\n    </tr>\n    <tr>\n      <th>2</th>\n      <td>Barking and Dagenham</td>\n      <td>0.50</td>\n      <td>0.78</td>\n      <td>0.70</td>\n      <td>0.70</td>\n      <td>3.0</td>\n      <td>21-22</td>\n      <td>2021</td>\n      <td>0.0</td>\n      <td>0.0</td>\n      <td>...</td>\n      <td>0.0</td>\n      <td>0.0</td>\n      <td>0.0</td>\n      <td>0.0</td>\n      <td>0.0</td>\n      <td>0.0</td>\n      <td>0.0</td>\n      <td>0.0</td>\n      <td>0.0</td>\n      <td>0.0</td>\n    </tr>\n    <tr>\n      <th>3</th>\n      <td>Barking and Dagenham</td>\n      <td>0.47</td>\n      <td>0.75</td>\n      <td>0.70</td>\n      <td>0.66</td>\n      <td>1.0</td>\n      <td>22-23</td>\n      <td>2022</td>\n      <td>85.0</td>\n      <td>26.0</td>\n      <td>...</td>\n      <td>0.0</td>\n      <td>4.0</td>\n      <td>0.0</td>\n      <td>0.0</td>\n      <td>56.0</td>\n      <td>9.0</td>\n      <td>0.0</td>\n      <td>0.0</td>\n      <td>46.0</td>\n      <td>20.0</td>\n    </tr>\n    <tr>\n      <th>4</th>\n      <td>Barking and Dagenham</td>\n      <td>0.50</td>\n      <td>0.77</td>\n      <td>0.71</td>\n      <td>0.66</td>\n      <td>2.0</td>\n      <td>22-23</td>\n      <td>2022</td>\n      <td>121.0</td>\n      <td>14.0</td>\n      <td>...</td>\n      <td>1.0</td>\n      <td>2.0</td>\n      <td>0.0</td>\n      <td>1.0</td>\n      <td>80.0</td>\n      <td>8.0</td>\n      <td>5.0</td>\n      <td>2.0</td>\n      <td>47.0</td>\n      <td>23.0</td>\n    </tr>\n    <tr>\n      <th>...</th>\n      <td>...</td>\n      <td>...</td>\n      <td>...</td>\n      <td>...</td>\n      <td>...</td>\n      <td>...</td>\n      <td>...</td>\n      <td>...</td>\n      <td>...</td>\n      <td>...</td>\n      <td>...</td>\n      <td>...</td>\n      <td>...</td>\n      <td>...</td>\n      <td>...</td>\n      <td>...</td>\n      <td>...</td>\n      <td>...</td>\n      <td>...</td>\n      <td>...</td>\n      <td>...</td>\n    </tr>\n    <tr>\n      <th>351</th>\n      <td>Westminster</td>\n      <td>0.51</td>\n      <td>0.80</td>\n      <td>0.58</td>\n      <td>0.60</td>\n      <td>4.0</td>\n      <td>21-22</td>\n      <td>2022</td>\n      <td>0.0</td>\n      <td>0.0</td>\n      <td>...</td>\n      <td>0.0</td>\n      <td>0.0</td>\n      <td>0.0</td>\n      <td>0.0</td>\n      <td>0.0</td>\n      <td>0.0</td>\n      <td>0.0</td>\n      <td>0.0</td>\n      <td>0.0</td>\n      <td>0.0</td>\n    </tr>\n    <tr>\n      <th>352</th>\n      <td>Westminster</td>\n      <td>0.59</td>\n      <td>0.74</td>\n      <td>0.67</td>\n      <td>0.65</td>\n      <td>1.0</td>\n      <td>23-24</td>\n      <td>2023</td>\n      <td>52.0</td>\n      <td>11.0</td>\n      <td>...</td>\n      <td>0.0</td>\n      <td>0.0</td>\n      <td>0.0</td>\n      <td>4.0</td>\n      <td>23.0</td>\n      <td>0.0</td>\n      <td>0.0</td>\n      <td>0.0</td>\n      <td>18.0</td>\n      <td>23.0</td>\n    </tr>\n    <tr>\n      <th>353</th>\n      <td>Westminster</td>\n      <td>0.59</td>\n      <td>0.74</td>\n      <td>0.67</td>\n      <td>0.65</td>\n      <td>2.0</td>\n      <td>23-24</td>\n      <td>2023</td>\n      <td>40.0</td>\n      <td>15.0</td>\n      <td>...</td>\n      <td>1.0</td>\n      <td>0.0</td>\n      <td>0.0</td>\n      <td>0.0</td>\n      <td>11.0</td>\n      <td>2.0</td>\n      <td>0.0</td>\n      <td>0.0</td>\n      <td>20.0</td>\n      <td>27.0</td>\n    </tr>\n    <tr>\n      <th>354</th>\n      <td>Westminster</td>\n      <td>0.60</td>\n      <td>0.78</td>\n      <td>0.71</td>\n      <td>0.67</td>\n      <td>3.0</td>\n      <td>23-24</td>\n      <td>2023</td>\n      <td>25.0</td>\n      <td>17.0</td>\n      <td>...</td>\n      <td>0.0</td>\n      <td>0.0</td>\n      <td>0.0</td>\n      <td>1.0</td>\n      <td>13.0</td>\n      <td>0.0</td>\n      <td>0.0</td>\n      <td>1.0</td>\n      <td>7.0</td>\n      <td>23.0</td>\n    </tr>\n    <tr>\n      <th>355</th>\n      <td>Westminster</td>\n      <td>0.56</td>\n      <td>0.75</td>\n      <td>0.67</td>\n      <td>0.65</td>\n      <td>4.0</td>\n      <td>22-23</td>\n      <td>2023</td>\n      <td>1.0</td>\n      <td>0.0</td>\n      <td>...</td>\n      <td>0.0</td>\n      <td>0.0</td>\n      <td>0.0</td>\n      <td>0.0</td>\n      <td>0.0</td>\n      <td>0.0</td>\n      <td>0.0</td>\n      <td>0.0</td>\n      <td>0.0</td>\n      <td>1.0</td>\n    </tr>\n  </tbody>\n</table>\n<p>352 rows × 22 columns</p>\n</div>"
     },
     "execution_count": 73,
     "metadata": {},
     "output_type": "execute_result"
    }
   ],
   "source": [
    "merged_data = merged_data[merged_data['good_job'] != 0]\n",
    "merged_data"
   ],
   "metadata": {
    "collapsed": false,
    "ExecuteTime": {
     "end_time": "2024-06-13T17:15:54.449081700Z",
     "start_time": "2024-06-13T17:15:54.426461800Z"
    }
   },
   "id": "c415914719fd96cf",
   "execution_count": 73
  },
  {
   "cell_type": "code",
   "outputs": [],
   "source": [
    "merged_data.to_csv('merged_data.csv', index=False)"
   ],
   "metadata": {
    "collapsed": false,
    "ExecuteTime": {
     "end_time": "2024-06-13T17:18:46.553858800Z",
     "start_time": "2024-06-13T17:18:46.525837Z"
    }
   },
   "id": "698e66ea69473b99",
   "execution_count": 74
  }
 ],
 "metadata": {
  "kernelspec": {
   "display_name": "Python 3",
   "language": "python",
   "name": "python3"
  },
  "language_info": {
   "codemirror_mode": {
    "name": "ipython",
    "version": 2
   },
   "file_extension": ".py",
   "mimetype": "text/x-python",
   "name": "python",
   "nbconvert_exporter": "python",
   "pygments_lexer": "ipython2",
   "version": "2.7.6"
  }
 },
 "nbformat": 4,
 "nbformat_minor": 5
}
